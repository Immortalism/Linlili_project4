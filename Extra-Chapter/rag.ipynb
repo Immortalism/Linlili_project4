{
 "cells": [
  {
   "cell_type": "markdown",
   "id": "212d60a4",
   "metadata": {},
   "source": [
    "## 1. 加载TXT文档 "
   ]
  },
  {
   "cell_type": "code",
   "execution_count": 3,
   "id": "24e0e744",
   "metadata": {},
   "outputs": [
    {
     "name": "stdout",
     "output_type": "stream",
     "text": [
      "[Document(page_content='罗浮宫（法语：Musée du Louvre,英语 /ˈluːv(rə)/ ），正式名称为罗浮博物馆，位于法国巴黎市中心的塞纳河边，原是建于12世纪末至13世纪初的王宫，现在是一所综合博物馆，亦是世界上最大的艺术博物馆之一，以及参观人数最多的博物馆，是巴黎中心最知名的地标。\\n\\n罗浮宫的建筑物始建于1190年左右，并在近代曾多次进行扩建，今天所见的模样则一个巨大的翼楼和亭阁建筑群，主要组成部分的总面积则超过60,600平方公尺（652,000平方英尺），馆内永久收藏则包括雕塑、绘画、美术工艺及古代东方、古代埃及和古希腊罗马等7个分类，主要收藏1860年以前的艺术作品与考古文物，罗浮宫博物馆在1793年8月10日开幕起正式对公众开放，平均每天有15,000名游客到此参观，其中65%是外国游客。\\n\\n位置\\n\\n罗浮宫与杜乐丽花园的卫星照片\\n罗浮宫博物馆位于巴黎市中心的卢浮宫内，位于塞纳河右岸，毗邻杜乐丽花园。最近的两个地铁站是皇家宫-罗浮宫站和卢浮-里沃利站，前者有直达地下购物中心 Carrousel du Louvre 的地下通道。\\n\\n在1980年代末和1990年代大改建之前，罗浮宫共有好几个街道入口，目前大部分入口已经永久关闭。自1993年以来，博物馆的正门位置位于拿破仑广场金字塔底下的地下空间，游客可以从金字塔本身、旋转阶梯处连接到博物馆的通道。\\n\\n博物馆的参观时间随著时代的推移而变化。自18世纪开放以来，只有艺术家和来自外国的观光游客享有特权参观，这项特权后在1850年代才消失。当博物馆从1793年首次开放时，新历法法国共和历规定了“十天周”（法语：décades），其中前六天为艺术家和外国人访问，后三天为将军访问，民众仅能在最后一天参观，后在在1800年代初期在恢复七天周后，民众在每周只有4小时的时间能在罗浮宫参观，周六和周日则是缩减至下午2点至下午4点期间参观。\\n\\n从1824年开始的一项新规定允许公众在星期日和节假日时参观，然而其他日子只对艺术家和外国游客开放，这种情况到1855年才发生了变化，博物馆更改成除了周一外全天向公众免费开放，直到1922年才开始收费。\\n\\n当前自1946年开始，罗浮宫除了在周二公休和特殊假日外，通常向游客全面开放参观，内部允许使用照相机和录像机，但禁止使用闪光灯。', metadata={'source': 'D:\\\\Project_Practice\\\\Linlili_AI\\\\project4\\\\rag\\\\demo.txt'})] \n",
      "\n",
      "罗浮宫（法语：Musée du Louvre,英语 /ˈluːv(rə)/ ），正式名称为罗浮博物馆，位于法国巴黎市中心的塞纳河边，原是建于12世纪末至13世纪初的王宫，现在是一所综合博物馆，亦是世界上最大的艺术博物馆之一，以及参观人数最多的博物馆，是巴黎中心最知名的地标。\n",
      "\n",
      "罗浮宫的建筑物始建于1190年左右，并在近代曾多次进行扩建，今天所见的模样则一个巨大的翼楼和亭阁建筑群，主要组成部分的总面积则超过60,600平方公尺（652,000平方英尺），馆内永久收藏则包括雕塑、绘画、美术工艺及古代东方、古代埃及和古希腊罗马等7个分类，主要收藏1860年以前的艺术作品与考古文物，罗浮宫博物馆在1793年8月10日开幕起正式对公众开放，平均每天有15,000名游客到此参观，其中65%是外国游客。\n",
      "\n",
      "位置\n",
      "\n",
      "罗浮宫与杜乐丽花园的卫星照片\n",
      "罗浮宫博物馆位于巴黎市中心的卢浮宫内，位于塞纳河右岸，毗邻杜乐丽花园。最近的两个地铁站是皇家宫-罗浮宫站和卢浮-里沃利站，前者有直达地下购物中心 Carrousel du Louvre 的地下通道。\n",
      "\n",
      "在1980年代末和1990年代大改建之前，罗浮宫共有好几个街道入口，目前大部分入口已经永久关闭。自1993年以来，博物馆的正门位置位于拿破仑广场金字塔底下的地下空间，游客可以从金字塔本身、旋转阶梯处连接到博物馆的通道。\n",
      "\n",
      "博物馆的参观时间随著时代的推移而变化。自18世纪开放以来，只有艺术家和来自外国的观光游客享有特权参观，这项特权后在1850年代才消失。当博物馆从1793年首次开放时，新历法法国共和历规定了“十天周”（法语：décades），其中前六天为艺术家和外国人访问，后三天为将军访问，民众仅能在最后一天参观，后在在1800年代初期在恢复七天周后，民众在每周只有4小时的时间能在罗浮宫参观，周六和周日则是缩减至下午2点至下午4点期间参观。\n",
      "\n",
      "从1824年开始的一项新规定允许公众在星期日和节假日时参观，然而其他日子只对艺术家和外国游客开放，这种情况到1855年才发生了变化，博物馆更改成除了周一外全天向公众免费开放，直到1922年才开始收费。\n",
      "\n",
      "当前自1946年开始，罗浮宫除了在周二公休和特殊假日外，通常向游客全面开放参观，内部允许使用照相机和录像机，但禁止使用闪光灯。\n"
     ]
    }
   ],
   "source": [
    "from langchain_community.document_loaders import TextLoader\n",
    "\n",
    "loader = TextLoader(file_path=r\"D:\\Project_Practice\\Linlili_AI\\project4\\rag\\demo.txt\",encoding=\"utf-8\")\n",
    "docs = loader.load()\n",
    "print(docs,\"\\n\")\n",
    "print(docs[0].page_content)"
   ]
  },
  {
   "cell_type": "code",
   "execution_count": null,
   "id": "4bab0047",
   "metadata": {},
   "outputs": [
    {
     "name": "stdout",
     "output_type": "stream",
     "text": [
      "[Document(page_content='丹道，又稱煉丹術，分為外丹與内丹，可與西方的煉金術互相印證。其外丹技法，衍生出中國古代的化學技術。\\n\\n\\n== 丹道種類 ==\\n\\n\\n=== 內丹 ===\\n\\n內丹之道，又稱金丹大道，是道教一種重要的修煉方法，目標是領悟生命之本源及宇宙造化之至理，並實證之，從而實現生命形態的昇華，即得道成仙，并擁有轉化物質的能力。此道以人體為丹爐，故稱「內丹」，以別於「外丹」之用鼎為爐。修習内丹之道又稱爲修真，因其理論認爲，物質世界、物質軀殼皆爲「假」，必須發現「假」中之「真」，借假修真，方能超越「假」而得道成真。有一種觀點認為其修煉方法相當於氣功，通過行氣，導引，呼吸吐納等方法來修煉，但道教祖師鍾離權、呂洞賓一系的南宗、北宗諸多經典都不同意這種方法。在道教古籍中經常提到的「服氣」，與現代的「氣功」並非同一回事，不可混淆。\\n內丹之道起於戰國之前，盛於唐宋。按照道教傳統觀點，中華古籍如《道德經》、《黃帝陰符經》、《易經》等，皆為闡述金丹大道之著作。內丹理論認爲，人身是小宇宙，宇宙是大人身，其中有造化之機、陰陽之變、五行生剋，明其理而修之，便能天人相應、天人合一，得道成真。其修煉過程常被概括為「煉精化氣、煉氣化神、煉神還虛、煉虛合道」以及「三花聚頂、五氣朝元」等。應用這些理論，可以解釋神佛、聖人頭上的圆光。\\n内丹之道涉及臟腑神魂、經脈竅穴等理论，與傳承自黃帝和神農的中醫學相通。依靠丹道修爲和理論知識，為他人治病的人，被稱爲道醫。南宗祖師石杏林、陳楠等都是有名的道醫。\\n漢晉唐時代，內丹功漸與道門武學溶為一體，成為內家武學。內家武學暗藏內丹術，並能致用，故不少修道者亦以內家武學為煉丹修心之捷徑。修煉內丹或內家拳，一般能使弱者體質於一兩年內迅速轉強。太極拳名家吳圖南、陳微明等，均屬此列。今練內家拳圖以強身者眾，唯多不知內家拳強身之妙，在其隱於心法中之內丹功。若只諳外形，實在無用，缺者正是內丹術。\\n\\n\\n==== 傳承譜系及代表人物 ====\\n锺离权、吕洞宾是道教南宗、北宗共同的祖師。其傳承譜系為：\\n南宗：鍾離權、呂洞賓─劉海蟾─張紫陽─石杏林─薛道光─陳楠─白玉蟾（南五祖）。\\n北宗：鍾離權、呂洞賓─王重陽─馬鈺、譚處端、劉處玄、丘處機、王處一、郝大通、孫不二（北七真）。\\n以上祖師的著作，有不少收錄于《正統道藏》、《全唐詩》、《古今圖書集成》等大型文庫類書之中，是道教界公認的金丹大道正統著作。\\n據《張三丰先生全集》，南宗、北宗皆屬於少陽派。「少陽」是指少陽真人王玄甫，其傳道於正陽真人鍾離權，鍾離權傳道於純陽真人呂洞賓，之後再傳南、北二宗。而張三丰祖師的丹法則傳承自文始派，與锺、吕系出同源。\\n文始派的传承關係为：老子─尹文始─麻衣先生─陳希夷─火龍先生─張三丰。\\n\\n\\n=== 外丹 ===\\n\\n外丹術是指通過各種秘法煉製「丹」，可能以铅、汞等矿物以及药物作為材料，或直接服食某些芝草，以點化自身陰質，使之化為陽氣。\\n秘方的失傳造成外丹服食和配制的方法較難掌握分寸。现代科学认为这些丹药中含有大量铅、汞等对人体危害极大的物质，导致很多古人甚至帝王中毒身亡。\\n道家外丹也可指「虛空中清靈之氣」。外丹術也可指煉金術或道家法術如符籙、雷法等。\\n另一方面，現代科學通過高能粒子反應，已能成功將鉛轉化成黃金。\\n\\n\\n== 煉丹派別 ==\\n“丹鼎派”是道教中以炼丹求长生成仙为主的各宗派的通称。最早由古代的神仙家、方仙道等发展而来。 \\n近代道教学者、前中国道教协会会长陈撄宁认为内丹养生是道教的精华。\\n\\n\\n== 參見 ==\\n中國煉丹史\\n養生 (道教)\\n外丹\\n煉金術\\n\\n\\n== 参考文献 ==\\n\\n\\n== 研究書目 ==\\n陳國符：《中國外丹黃白考》（上海：上海古籍出版社，1997）。\\nJoseph Needham（李約瑟）著，周曾雄譯：《中國科學技術史》，第5卷第2分冊，「煉丹術的發明和發展：金丹與長生」。\\nNathan Sivin（席文）著，李煥燊譯：《伏煉試探》（台北：國立編譯館，1973）。\\n金正耀：《道教與鍊丹術論》（北京：宗教文化出版社，2001）。', metadata={'title': '炼丹', 'summary': '丹道，又稱煉丹術，分為外丹與内丹，可與西方的煉金術互相印證。其外丹技法，衍生出中國古代的化學技術。', 'source': 'https://zh.wikipedia.org/wiki/%E7%82%BC%E4%B8%B9'}), Document(page_content='内丹术又稱金丹大道，是道教一种重要的修炼方法，其理论認爲人身是小宇宙，宇宙是大人身，其中含造化之機、性命之道、變化之理，若能參悟，依之修煉，便能長生不老，乃至得道成仙，即實現生命形態的昇華，超脫物質世界的束縛，與道合一，與太虛同體，聚則成形，散則成炁，出有入無，千變萬化，顯隱莫測，并擁有轉化物質的能力。修習内丹之道又稱爲修真，因其理論認爲，物質世界、物質軀殼皆爲「假」，必須發現「假」中之「真」，借假修真，方能超越「假」而得道成真。\\n内丹之道的修煉過程，常被概括為「煉精化氣、煉氣化神、煉神還虛、煉虛合道」以及「三花聚頂、五氣朝元」等。應用這些理論，可以解釋宗教藝術中常見的神佛、聖人頭上的圆光。\\n從古至今，出現過許多追求長生的修煉方法，包括呼吸吐納、行氣、導引，乃至采用體液、血液進行修煉等等。按照正統道教觀點，這些功法最多只能强身健體、延年益壽，有些甚至可能有害無益，修習這些功法並不能得道成仙。道教古籍中經常提到的「服氣」，與氣功或呼吸吐納並非同一回事，其中的「氣」，往往不是指呼吸之氣或空氣，而是指某種無形的能量。\\n\\n\\n== 歷史與傳承譜系 ==\\n\\n\\n=== 黃帝 ===\\n道教又稱黃老之道，其傳承可追溯至三皇五帝時期的黃帝、伏羲。黃帝既是道教，也是中醫之祖。按照傳統道教觀點，黃帝的道法、醫學理論，皆為上天所授。\\n《黃帝陰符經》以精闢之語，傳至道玄要，為歷代丹家所推崇。如《悟真篇》云：「陰符寶字逾三百，道德靈文滿五千，今古上仙無限數，盡從此處達真詮。」《正統道藏》收錄《黃帝陰符經》本篇及歷代名家為其所作之注解、講義，達數十種之多。\\n《黃帝內經》記載，上古之時有真人，中古之時有至人，其次有聖人、賢人。隨著時代變遷，人們對道的體悟逐漸減少，身體素質、壽命水平也隨之下降。無獨有偶，佛教也認爲，人類當前處於「減劫」之中，從上古到現代，人的理論壽命極限與福德逐漸遞減。另外，希臘神話也記載，從黃金時代到黑铁时代，人類的壽命和福樂依次遞減。《黃帝內經》同時也揭示一個道理：今時之人若能悟道、修道，亦能提升生命層次，接近或達到上古真人的境界。\\n《黃帝內經》又揭示，「五」、「六」、「十二」這几個數字，乃天道之數。如《黃帝內經》云：「余聞人之合於天道也，內有五藏，以應五音、五色、五時、五味、五位也。外有六府，以應六律。」又云：六律建陰陽諸經，而合之十二月、十二辰、十二節、十二經水、十二時、十二經脈者，此五藏六府之所以應天道。夫十二經脈者，人之所以生，病之所以成，人之所以治，病之所以起，學之所始，工之所止也，粗之所易，上之所難也。」\\n這與世界上各宗教、文化的重要數字也不謀而合。例如，道教有五行、五方五帝；佛教有五智、五方五佛；舊約聖經有摩西五書，伊斯兰教有五功，儒家有五常，等等。\\n\\n又例如，以色列有十二支派，耶穌有十二門徒，新耶路撒冷有十二個門、十二位天使、十二基石等等，希臘神話有奧林匹斯十二主神、十二泰坦，印度神話有十二阿底提耶。呂洞賓祖師《穀神歌》亦云：「金殿玉堂門十二，金翁木母正來過。重門過後牢關鎖，點檢鬥牛先下火。進火消陰始一陽，千歲仙桃初結果。」\\n\\n\\n=== 八卦、周易 ===\\n伏羲參天地宇宙而畫八卦，文王推演為六十四卦而作《易經》，内含宇宙萬物生化循環之數理，因而為歷代聖賢所推崇。孔子晚年，深研《易經》，以致韋編三絕，之後才得道成聖。\\n《易經》的卦象和卦辭，深含道妙。例如，復 ䷗ 卦，只有底部一個陽爻，其上全是陰爻，此乃「冬至」一陽初生之象，在丹道之中有重要含義。如《悟真篇》云：「若到一陽來起復，便堪進火莫延遲」，又云：「冬至一陽來復，三旬増一陽爻」。\\n再例如，復卦的彖辭：「七日來復，天行也。利有攸往，剛長也。復其見天地之心乎。」意思是，經過一個星期，即七曜日之後，剛好合成「一陽」，所以説「七日來復，天行也」。而這個「一陽」，正是生化萬物的關鍵，所以説「復其見天地之心乎」。\\n「七」在世界各宗教、文化當中，都是一個極爲重要的數字。例如《舊約聖經·箴言》中寫道，代表創世之力的「智慧」，其住處，有七根支柱。又例如，《新約聖經·啓示錄》中寫道，神有七靈，與七星相關。\\n世界各大文化裏，都有將一星期裏的七天與七星對應的傳統，而且都是一樣的對應次序。\\n\\n歷代道教祖師在其著作中，都大量采用《易經》的卦象和卦辭來闡述丹道。如呂洞賓祖師《敲爻歌》云：「初九潛龍不可煉」。張紫陽祖師《悟真篇》云：「午時姤象一隂朝，煉藥須知昏曉」。薛道光祖師《還丹復命篇》云：「否泰爻中天地合，兔雞沐浴要潛藏」。\\n歷代禪師，也經常采用《易經》卦辭來闡道。如《建中靖國續燈錄》云：「觸龍鱗，履虎尾，大眾作麼生體會。若體會得，便能光輝日月，閃爍星辰。」《牧雲和尚嬾齋別集》云：「下民嗟踽踽，上帝視瞢瞢。禎瑞藏威鳳，玄黃兆亢龍。丘隅爭血氣，山海限樊籠。浩歎吟春澤，長歌度晚風。」\\n\\n\\n=== 道祖太上老君 ===\\n老子被尊爲道祖，所著之《道德經》是道教根本經典。《道德經》揭示，「道」在開天闢地之前已經存在，其無形無象，看不見、摸不著，但卻是創生宇宙萬物的根本力量，可以被稱爲天地之母。這種創生宇宙萬物的根本力量，在別的丹經道書裏又被稱爲「一炁」、「一氣」、「太一」、「先天之氣」等等。\\n\\n《道德經》云：有物混成，先天地生。寂兮寥兮，獨立而不改，周行而不殆，可以為天地母。吾不知其名，字之曰道，強為之名，曰大...... 道法自然。\\n\\n上文中的「獨立」是指，道不依賴任何條件（包括時間、空間、物質等條件），獨自就能成立。「不改」則是指，道永恆不變。至於「自然」，「然」是「如此」的意思，「自然」是指，道不依賴任何條件，自己本就如此。「自然」又作「本然」、「自在」等。\\n「獨立」、「不改」、「自然」所包含的意思是：道永恆存在（不受時間限制）；無處不在（不受空間限制）；恆常不變（不改），不可染污、不可敗壞、不可摧毀（任何條件都不能改變其「存在」和「如此」的狀態）。至於「如此」究竟是何狀態？那是一種超越文字語言、超越想象的境界，一講就錯，只能「強為之名」、「強為之容」。\\n世界各宗教、文化中，也有同樣的概念。例如，梵文 Svayambhu 意思是「自生」、「自然」、「自在」，不由任何其他存在創生，不依賴任何條件，自己本然存在且永恆如此。又例如，佛的法身，又名自性身，梵文为 Sva-bhāva-kāya，其中 Sva 为「自」，bhāva 为「存在」，kāya 是「身」，因此 Sva-bhāva-kāya 可以译为「自存身」、「自在身」，即不依赖任何条件，自己本然存在之身。《聖經》神學裏，也有「自有永有」這樣的概念。\\n\\n《道德經》又云：道常無為而無不為。\\n\\n「常無為」是指，道恆常不變、自然、自在；「無為而無不為」則是指，道保持恆常不變的同時，又顯化出宇宙萬物、萬千姿態，這些萬事萬物又有無盡變化、種種作爲，所以説「無不為」。\\n不少道教祖師和禪宗祖師都認爲，「道」與佛教所説的「空」、「真如」、「法身」、「法性」、「如來藏」、「般若波羅蜜」是同一回事。佛教所説的「空」並不是什麽都沒有，而是真空不空、真空妙有，無形無相，卻又能化現森羅万象，這與「道」的定義完全一致。\\n老子又稱老君、太上老君、道德天尊，是道教三清之一。據《老子八十一化》，老君就是「道」本身，是造化之根本、宇宙萬物的真正本質。老君的真身充滿宇宙，無邊無際、無形無像、不可捉摸，同時又顯化出宇宙萬物、一切衆生。自古以來，老君顯化為各種天尊、神仙、聖人，傳下道法，接引衆生。廣成子、老子、佛陀等，皆爲老君之化身。\\n道教不少經典以「太上老君」之名起始。例如日常課誦的《太上老君說常清靜妙經》，教授戒律的《太上老君戒經》，講述道教創世觀的《太上老君太素經》等。\\n\\n\\n=== 先秦至隋唐 ===\\n《庄子》中提到“天地与我并生，万物与我为一”，亦有「心斋」、「坐忘」之类的内炼方法。《管子》则认为“能守一而弃万疴”。王子乔、赤松子皆依服食而成仙。《楚辞·远游》一文中，也有“餐六氣而饮沆瀣兮，漱正阳而含朝霞”之句。\\n早期道教的一部重要的经书《太平经》也有一套自己的长生不老的修道理论和方法，认为需要“爱气尊神重精”、“行善”、“守一”、“食气”等。东汉魏伯阳著《周易参同契》，提出了“参同相类”的修炼模式，为丹法之祖书。东晋葛洪是金丹道教的理论家与实践者。他认为金丹之道，乃仙道之极。葛洪《抱朴子‧金丹篇》说：“余考览养性之书，鸠集久视之方，曾所披涉篇卷，以千计矣，莫不皆以还丹、金液为大要者焉。然则此二事，盖仙道之极也。服此而不仙，则古来无仙矣。”魏晋时道教教团重视内炼养生，上清派整理道经，如魏华存《黄庭经》、陶弘景《服气导引法》。\\n“内丹”一词于已有文献中最早见于题为东晋许逊所作的《灵剑子·服气诀》：“服气调咽用内丹”。另《灵剑子·松沙记》：“学道之士，初广布阴骘，先行气攻，持内丹长生久视之法。”南北朝梁代南岳佛教天台宗三祖慧思禅师（515—577）《立警愿文》中说到：“我今入山修习苦行，忏悔破戒障道罪，今身及先身是罪悉忏悔，为护法故求长寿命，不愿生天及余趣，愿诸贤圣左助我，得好芝草及神丹，疗治众病除饥渴，常得经修行诸禅，愿得深山静处，神丹药修此愿，借外丹力修内丹，欲安众生先自安。己身有缚能解他缚，无有是处。”这是目前發現的最早将外丹、内丹明确划分开的著作。（道家外丹也可指“虚空中清灵之气”，前中国道教协会会长陈撄宁先生云：“外界资助，当然不可少，却是在虚空中寻求。”）\\n隋朝时，修道于罗浮山青霞谷的道士“青霞子”苏元朗提出“归神丹于心炼”，提倡“性命双修”，以此为内丹修炼的核心。\\n唐朝与五代，是内丹之道興盛的时期。崔希范撰《入药镜》。司马承祯作《天隐子》、《坐忘论》、《服气精义论》。李筌、張果老等注解《阴符经》。鐘離', metadata={'title': '内丹术', 'summary': '内丹术又稱金丹大道，是道教一种重要的修炼方法，其理论認爲人身是小宇宙，宇宙是大人身，其中含造化之機、性命之道、變化之理，若能參悟，依之修煉，便能長生不老，乃至得道成仙，即實現生命形態的昇華，超脫物質世界的束縛，與道合一，與太虛同體，聚則成形，散則成炁，出有入無，千變萬化，顯隱莫測，并擁有轉化物質的能力。修習内丹之道又稱爲修真，因其理論認爲，物質世界、物質軀殼皆爲「假」，必須發現「假」中之「真」，借假修真，方能超越「假」而得道成真。\\n内丹之道的修煉過程，常被概括為「煉精化氣、煉氣化神、煉神還虛、煉虛合道」以及「三花聚頂、五氣朝元」等。應用這些理論，可以解釋宗教藝術中常見的神佛、聖人頭上的圆光。\\n從古至今，出現過許多追求長生的修煉方法，包括呼吸吐納、行氣、導引，乃至采用體液、血液進行修煉等等。按照正統道教觀點，這些功法最多只能强身健體、延年益壽，有些甚至可能有害無益，修習這些功法並不能得道成仙。道教古籍中經常提到的「服氣」，與氣功或呼吸吐納並非同一回事，其中的「氣」，往往不是指呼吸之氣或空氣，而是指某種無形的能量。', 'source': 'https://zh.wikipedia.org/wiki/%E5%86%85%E4%B8%B9%E6%9C%AF'})] \n",
      "\n",
      "丹道，又稱煉丹術，分為外丹與内丹，可與西方的煉金術互相印證。其外丹技法，衍生出中國古代的化學技術。\n",
      "\n",
      "\n",
      "== 丹道種類 ==\n",
      "\n",
      "\n",
      "=== 內丹 ===\n",
      "\n",
      "內丹之道，又稱金丹大道，是道教一種重要的修煉方法，目標是領悟生命之本源及宇宙造化之至理，並實證之，從而實現生命形態的昇華，即得道成仙，并擁有轉化物質的能力。此道以人體為丹爐，故稱「內丹」，以別於「外丹」之用鼎為爐。修習内丹之道又稱爲修真，因其理論認爲，物質世界、物質軀殼皆爲「假」，必須發現「假」中之「真」，借假修真，方能超越「假」而得道成真。有一種觀點認為其修煉方法相當於氣功，通過行氣，導引，呼吸吐納等方法來修煉，但道教祖師鍾離權、呂洞賓一系的南宗、北宗諸多經典都不同意這種方法。在道教古籍中經常提到的「服氣」，與現代的「氣功」並非同一回事，不可混淆。\n",
      "內丹之道起於戰國之前，盛於唐宋。按照道教傳統觀點，中華古籍如《道德經》、《黃帝陰符經》、《易經》等，皆為闡述金丹大道之著作。內丹理論認爲，人身是小宇宙，宇宙是大人身，其中有造化之機、陰陽之變、五行生剋，明其理而修之，便能天人相應、天人合一，得道成真。其修煉過程常被概括為「煉精化氣、煉氣化神、煉神還虛、煉虛合道」以及「三花聚頂、五氣朝元」等。應用這些理論，可以解釋神佛、聖人頭上的圆光。\n",
      "内丹之道涉及臟腑神魂、經脈竅穴等理论，與傳承自黃帝和神農的中醫學相通。依靠丹道修爲和理論知識，為他人治病的人，被稱爲道醫。南宗祖師石杏林、陳楠等都是有名的道醫。\n",
      "漢晉唐時代，內丹功漸與道門武學溶為一體，成為內家武學。內家武學暗藏內丹術，並能致用，故不少修道者亦以內家武學為煉丹修心之捷徑。修煉內丹或內家拳，一般能使弱者體質於一兩年內迅速轉強。太極拳名家吳圖南、陳微明等，均屬此列。今練內家拳圖以強身者眾，唯多不知內家拳強身之妙，在其隱於心法中之內丹功。若只諳外形，實在無用，缺者正是內丹術。\n",
      "\n",
      "\n",
      "==== 傳承譜系及代表人物 ====\n",
      "锺离权、吕洞宾是道教南宗、北宗共同的祖師。其傳承譜系為：\n",
      "南宗：鍾離權、呂洞賓─劉海蟾─張紫陽─石杏林─薛道光─陳楠─白玉蟾（南五祖）。\n",
      "北宗：鍾離權、呂洞賓─王重陽─馬鈺、譚處端、劉處玄、丘處機、王處一、郝大通、孫不二（北七真）。\n",
      "以上祖師的著作，有不少收錄于《正統道藏》、《全唐詩》、《古今圖書集成》等大型文庫類書之中，是道教界公認的金丹大道正統著作。\n",
      "據《張三丰先生全集》，南宗、北宗皆屬於少陽派。「少陽」是指少陽真人王玄甫，其傳道於正陽真人鍾離權，鍾離權傳道於純陽真人呂洞賓，之後再傳南、北二宗。而張三丰祖師的丹法則傳承自文始派，與锺、吕系出同源。\n",
      "文始派的传承關係为：老子─尹文始─麻衣先生─陳希夷─火龍先生─張三丰。\n",
      "\n",
      "\n",
      "=== 外丹 ===\n",
      "\n",
      "外丹術是指通過各種秘法煉製「丹」，可能以铅、汞等矿物以及药物作為材料，或直接服食某些芝草，以點化自身陰質，使之化為陽氣。\n",
      "秘方的失傳造成外丹服食和配制的方法較難掌握分寸。现代科学认为这些丹药中含有大量铅、汞等对人体危害极大的物质，导致很多古人甚至帝王中毒身亡。\n",
      "道家外丹也可指「虛空中清靈之氣」。外丹術也可指煉金術或道家法術如符籙、雷法等。\n",
      "另一方面，現代科學通過高能粒子反應，已能成功將鉛轉化成黃金。\n",
      "\n",
      "\n",
      "== 煉丹派別 ==\n",
      "“丹鼎派”是道教中以炼丹求长生成仙为主的各宗派的通称。最早由古代的神仙家、方仙道等发展而来。 \n",
      "近代道教学者、前中国道教协会会长陈撄宁认为内丹养生是道教的精华。\n",
      "\n",
      "\n",
      "== 參見 ==\n",
      "中國煉丹史\n",
      "養生 (道教)\n",
      "外丹\n",
      "煉金術\n",
      "\n",
      "\n",
      "== 参考文献 ==\n",
      "\n",
      "\n",
      "== 研究書目 ==\n",
      "陳國符：《中國外丹黃白考》（上海：上海古籍出版社，1997）。\n",
      "Joseph Needham（李約瑟）著，周曾雄譯：《中國科學技術史》，第5卷第2分冊，「煉丹術的發明和發展：金丹與長生」。\n",
      "Nathan Sivin（席文）著，李煥燊譯：《伏煉試探》（台北：國立編譯館，1973）。\n",
      "金正耀：《道教與鍊丹術論》（北京：宗教文化出版社，2001）。\n"
     ]
    }
   ],
   "source": [
    "from langchain_community.document_loaders import WikipediaLoader\n",
    "import os\n",
    "# 设置代理（替换为你的实际代理地址和端口）\n",
    "os.environ[\"HTTP_PROXY\"] = \"http://127.0.0.1:7897\"  # 示例代理地址\n",
    "os.environ[\"HTTPS_PROXY\"] = \"http://127.0.0.1:7897\"  # 示例代理地址\n",
    "\n",
    "\n",
    "loader_3 = WikipediaLoader(query=\"丹道\",load_max_docs=2,lang=\"zh\").load()\n",
    "print(loader_3,\"\\n\")\n",
    "\n",
    "print(loader_3[0].page_content)"
   ]
  },
  {
   "cell_type": "markdown",
   "id": "ab2c8105",
   "metadata": {},
   "source": [
    "## 2.分割"
   ]
  },
  {
   "cell_type": "code",
   "execution_count": 4,
   "id": "62072d06",
   "metadata": {},
   "outputs": [
    {
     "name": "stdout",
     "output_type": "stream",
     "text": [
      "page_content='罗浮宫（法语：Musée du Louvre,英语 /ˈluːv(rə)/ ），正式名称为罗浮博物馆，位于法国巴黎市中心的塞纳河边，原是建于12世纪末至13世纪初的王宫，现在是一所综合博物馆，亦是世界上最大的艺术博物馆之一，以及参观人数最多的博物馆，是巴黎中心最知名的地标。\\n\\n罗浮宫的建筑物始建于1190年左右，并在近代曾多次进行扩建，今天所见的模样则一个巨大的翼楼和亭阁建筑群，主要组成部分的总面积则超过60,600平方公尺（652,000平方英尺），馆内永久收藏则包括雕塑、绘画、美术工艺及古代东方、古代埃及和古希腊罗马等7个分类，主要收藏1860年以前的艺术作品与考古文物，罗浮宫博物馆在1793年8月10日开幕起正式对公众开放，平均每天有15,000名游客到此参观，其中65%是外国游客。\\n\\n位置\\n\\n罗浮宫与杜乐丽花园的卫星照片\\n罗浮宫博物馆位于巴黎市中心的卢浮宫内，位于塞纳河右岸，毗邻杜乐丽花园。最近的两个地铁站是皇家宫-罗浮宫站和卢浮-里沃利站，前者有直达地下购物中心 Carrousel du Louvre 的地下通道。' metadata={'source': 'D:\\\\Project_Practice\\\\Linlili_AI\\\\project4\\\\rag\\\\demo.txt'}\n"
     ]
    }
   ],
   "source": [
    "from langchain_community.document_loaders import TextLoader\n",
    "from langchain_text_splitters import RecursiveCharacterTextSplitter\n",
    "\n",
    "docs = TextLoader(r\"D:\\Project_Practice\\Linlili_AI\\project4\\rag\\demo.txt\",encoding=\"utf-8\").load()\n",
    "text_splitter = RecursiveCharacterTextSplitter(\n",
    "    chunk_size = 500,\n",
    "    chunk_overlap = 40,\n",
    "    separators=[\"\\n\\n\", \"\\n\", \"。\", \"！\", \"？\", \"，\", \"、\", \"\"]\n",
    ")\n",
    "\n",
    "text = text_splitter.split_documents(docs)\n",
    "print(text[0])"
   ]
  },
  {
   "cell_type": "markdown",
   "id": "b66997a0",
   "metadata": {},
   "source": [
    "## 3. 向量化"
   ]
  },
  {
   "cell_type": "code",
   "execution_count": 5,
   "id": "d4a972f8",
   "metadata": {},
   "outputs": [
    {
     "name": "stdout",
     "output_type": "stream",
     "text": [
      "3072\n"
     ]
    }
   ],
   "source": [
    "key = \"sk-3Y2fAEoDopIzz19EC0zGehuwEUNtvmlRS4k9Hv7vGhwB993N\"\n",
    "url = \"https://api.aigc369.com/v1\"\n",
    "\n",
    "from langchain_openai import OpenAIEmbeddings\n",
    "\n",
    "embeddings_model =  OpenAIEmbeddings(model=\"text-embedding-3-large\",\n",
    "                                     api_key=key,base_url=url)\n",
    "embeded_results = embeddings_model.embed_documents([\"Hello world!\", \"Hey bro\"])\n",
    "print(len(embeded_results[0]))"
   ]
  },
  {
   "cell_type": "code",
   "execution_count": 6,
   "id": "bff9b740",
   "metadata": {},
   "outputs": [
    {
     "name": "stdout",
     "output_type": "stream",
     "text": [
      "1024\n"
     ]
    }
   ],
   "source": [
    "embeddings_model =  OpenAIEmbeddings(model=\"text-embedding-3-large\",dimensions=1024,\n",
    "                                     api_key=key,base_url=url)\n",
    "embeded_results = embeddings_model.embed_documents([\"Hello world!\", \"Hey bro\"])\n",
    "print(len(embeded_results[0]))"
   ]
  },
  {
   "cell_type": "markdown",
   "id": "04484232",
   "metadata": {},
   "source": [
    "## 4.存入数据库"
   ]
  },
  {
   "cell_type": "code",
   "execution_count": 1,
   "id": "ce3e05d8",
   "metadata": {},
   "outputs": [],
   "source": [
    "from langchain_community.document_loaders import TextLoader\n",
    "from langchain_text_splitters import RecursiveCharacterTextSplitter\n",
    "\n",
    "from langchain_openai import OpenAIEmbeddings\n",
    "from langchain_community.vectorstores import FAISS\n",
    "\n",
    "from langchain_openai import ChatOpenAI"
   ]
  },
  {
   "cell_type": "code",
   "execution_count": 5,
   "id": "815dcb57",
   "metadata": {},
   "outputs": [
    {
     "name": "stdout",
     "output_type": "stream",
     "text": [
      "[Document(page_content='罗浮宫（法语：Musée du Louvre,英语 /ˈluːv(rə)/ ），正式名称为罗浮博物馆，位于法国巴黎市中心的塞纳河边，原是建于12世纪末至13世纪初的王宫，现在是一所综合博物馆，亦是世界上最大的艺术博物馆之一，以及参观人数最多的博物馆，是巴黎中心最知名的地标。\\n\\n罗浮宫的建筑物始建于1190年左右，并在近代曾多次进行扩建，今天所见的模样则一个巨大的翼楼和亭阁建筑群，主要组成部分的总面积则超过60,600平方公尺（652,000平方英尺），馆内永久收藏则包括雕塑、绘画、美术工艺及古代东方、古代埃及和古希腊罗马等7个分类，主要收藏1860年以前的艺术作品与考古文物，罗浮宫博物馆在1793年8月10日开幕起正式对公众开放，平均每天有15,000名游客到此参观，其中65%是外国游客。\\n\\n位置\\n\\n罗浮宫与杜乐丽花园的卫星照片\\n罗浮宫博物馆位于巴黎市中心的卢浮宫内，位于塞纳河右岸，毗邻杜乐丽花园。最近的两个地铁站是皇家宫-罗浮宫站和卢浮-里沃利站，前者有直达地下购物中心 Carrousel du Louvre 的地下通道。', metadata={'source': 'D:\\\\Project_Practice\\\\Linlili_AI\\\\project4\\\\rag\\\\demo.txt'}), Document(page_content='在1980年代末和1990年代大改建之前，罗浮宫共有好几个街道入口，目前大部分入口已经永久关闭。自1993年以来，博物馆的正门位置位于拿破仑广场金字塔底下的地下空间，游客可以从金字塔本身、旋转阶梯处连接到博物馆的通道。\\n\\n博物馆的参观时间随著时代的推移而变化。自18世纪开放以来，只有艺术家和来自外国的观光游客享有特权参观，这项特权后在1850年代才消失。当博物馆从1793年首次开放时，新历法法国共和历规定了“十天周”（法语：décades），其中前六天为艺术家和外国人访问，后三天为将军访问，民众仅能在最后一天参观，后在在1800年代初期在恢复七天周后，民众在每周只有4小时的时间能在罗浮宫参观，周六和周日则是缩减至下午2点至下午4点期间参观。\\n\\n从1824年开始的一项新规定允许公众在星期日和节假日时参观，然而其他日子只对艺术家和外国游客开放，这种情况到1855年才发生了变化，博物馆更改成除了周一外全天向公众免费开放，直到1922年才开始收费。\\n\\n当前自1946年开始，罗浮宫除了在周二公休和特殊假日外，通常向游客全面开放参观，内部允许使用照相机和录像机，但禁止使用闪光灯。', metadata={'source': 'D:\\\\Project_Practice\\\\Linlili_AI\\\\project4\\\\rag\\\\demo.txt'})] \n",
      "\n",
      "罗浮宫（法语：Musée du Louvre,英语 /ˈluːv(rə)/ ），正式名称为罗浮博物馆，位于法国巴黎市中心的塞纳河边，原是建于12世纪末至13世纪初的王宫，现在是一所综合博物馆，亦是世界上最大的艺术博物馆之一，以及参观人数最多的博物馆，是巴黎中心最知名的地标。\n",
      "\n",
      "罗浮宫的建筑物始建于1190年左右，并在近代曾多次进行扩建，今天所见的模样则一个巨大的翼楼和亭阁建筑群，主要组成部分的总面积则超过60,600平方公尺（652,000平方英尺），馆内永久收藏则包括雕塑、绘画、美术工艺及古代东方、古代埃及和古希腊罗马等7个分类，主要收藏1860年以前的艺术作品与考古文物，罗浮宫博物馆在1793年8月10日开幕起正式对公众开放，平均每天有15,000名游客到此参观，其中65%是外国游客。\n",
      "\n",
      "位置\n",
      "\n",
      "罗浮宫与杜乐丽花园的卫星照片\n",
      "罗浮宫博物馆位于巴黎市中心的卢浮宫内，位于塞纳河右岸，毗邻杜乐丽花园。最近的两个地铁站是皇家宫-罗浮宫站和卢浮-里沃利站，前者有直达地下购物中心 Carrousel du Louvre 的地下通道。\n"
     ]
    }
   ],
   "source": [
    "docs2 = TextLoader(r\"D:\\Project_Practice\\Linlili_AI\\project4\\rag\\demo.txt\",encoding=\"utf-8\").load()\n",
    "\n",
    "text_splitter2 = RecursiveCharacterTextSplitter(\n",
    "    chunk_size = 500,\n",
    "    chunk_overlap = 40,\n",
    "    separators= [\"\\n\\n\", \"\\n\", \"。\", \"！\", \"？\", \"，\", \"、\", \"\"]\n",
    ")\n",
    "texts = text_splitter2.split_documents(docs2)\n",
    "\n",
    "key = \"sk-3Y2fAEoDopIzz19EC0zGehuwEUNtvmlRS4k9Hv7vGhwB993N\"\n",
    "url = \"https://api.aigc369.com/v1\"\n",
    "\n",
    "embeddings_model2 =  OpenAIEmbeddings(model=\"text-embedding-3-large\",\n",
    "                                     api_key=key,base_url=url)\n",
    "db = FAISS.from_documents(texts,embeddings_model2)\n",
    "retriever = db.as_retriever()\n",
    "\n",
    "retriever_docs = retriever.invoke(\"卢浮宫这个名字怎么来的？\")\n",
    "print(retriever_docs,\"\\n\")\n",
    "print(retriever_docs[0].page_content)\n"
   ]
  },
  {
   "cell_type": "markdown",
   "id": "84d52cff",
   "metadata": {},
   "source": [
    "## 5. 问答"
   ]
  },
  {
   "cell_type": "code",
   "execution_count": 6,
   "id": "bf0cfc98",
   "metadata": {},
   "outputs": [],
   "source": [
    "from langchain_community.document_loaders import TextLoader\n",
    "from langchain_text_splitters import RecursiveCharacterTextSplitter\n",
    "\n",
    "from langchain_openai.embeddings import OpenAIEmbeddings\n",
    "from langchain_community.vectorstores import FAISS\n",
    "\n",
    "from langchain_openai import ChatOpenAI\n",
    "\n",
    "from langchain.chains import ConversationalRetrievalChain\n",
    "from langchain.memory import ConversationBufferMemory"
   ]
  },
  {
   "cell_type": "code",
   "execution_count": null,
   "id": "b579d35c",
   "metadata": {},
   "outputs": [],
   "source": [
    "key = \"sk-3Y2fAEoDopIzz19EC0zGehuwEUNtvmlRS4k9Hv7vGhwB993N\"\n",
    "url = \"https://api.aigc369.com/v1\""
   ]
  },
  {
   "cell_type": "code",
   "execution_count": null,
   "id": "b8906a40",
   "metadata": {},
   "outputs": [],
   "source": [
    "model2 = ChatOpenAI(model=\"gpt-3.5-turbo\",api_key=key,base_url=url)\n",
    "memory = ConversationBufferMemory(return_messages=True, \n",
    "                                  memory_key='chat_history', \n",
    "                                  output_key='answer')\n"
   ]
  },
  {
   "cell_type": "code",
   "execution_count": 23,
   "id": "b962497a",
   "metadata": {},
   "outputs": [],
   "source": [
    "qa = ConversationalRetrievalChain.from_llm(llm=model2,\n",
    "                                           retriever=retriever,\n",
    "                                           memory=memory)"
   ]
  },
  {
   "cell_type": "code",
   "execution_count": 24,
   "id": "673fb2bd",
   "metadata": {},
   "outputs": [
    {
     "data": {
      "text/plain": [
       "{'chat_history': [HumanMessage(content='卢浮宫这个名字怎么来的？'),\n",
       "  AIMessage(content='卢浮宫这个名字来源于法语中的\"Musée du Louvre\"，而\"Musée du Louvre\"一词中的\"Louvre\"则可能来源于法语中的\"l\\'ouvre\"，意思是“工程”或“建筑物”。因此，卢浮宫这个名称可能与建筑本身的历史和构造有关，代表着这个建筑物的重要性和独特性。')],\n",
       " 'question': '卢浮宫这个名字怎么来的？',\n",
       " 'answer': '卢浮宫这个名字来源于法语中的\"Musée du Louvre\"，而\"Musée du Louvre\"一词中的\"Louvre\"则可能来源于法语中的\"l\\'ouvre\"，意思是“工程”或“建筑物”。因此，卢浮宫这个名称可能与建筑本身的历史和构造有关，代表着这个建筑物的重要性和独特性。'}"
      ]
     },
     "execution_count": 24,
     "metadata": {},
     "output_type": "execute_result"
    }
   ],
   "source": [
    "question = \"卢浮宫这个名字怎么来的？\"\n",
    "qa.invoke({\"chat_history\":memory,\n",
    "           \"question\":question})"
   ]
  },
  {
   "cell_type": "code",
   "execution_count": 25,
   "id": "45c21105",
   "metadata": {},
   "outputs": [
    {
     "data": {
      "text/plain": [
       "{'chat_history': [HumanMessage(content='卢浮宫这个名字怎么来的？'),\n",
       "  AIMessage(content='卢浮宫这个名字来源于法语中的\"Musée du Louvre\"，而\"Musée du Louvre\"一词中的\"Louvre\"则可能来源于法语中的\"l\\'ouvre\"，意思是“工程”或“建筑物”。因此，卢浮宫这个名称可能与建筑本身的历史和构造有关，代表着这个建筑物的重要性和独特性。'),\n",
       "  HumanMessage(content='对应的拉丁语是什么呢？'),\n",
       "  AIMessage(content='这个名称对应的拉丁语是\"Palatium Lutetiae\"。')],\n",
       " 'question': '对应的拉丁语是什么呢？',\n",
       " 'answer': '这个名称对应的拉丁语是\"Palatium Lutetiae\"。'}"
      ]
     },
     "execution_count": 25,
     "metadata": {},
     "output_type": "execute_result"
    }
   ],
   "source": [
    "question = \"对应的拉丁语是什么呢？\"\n",
    "qa.invoke({\"chat_history\": memory, \"question\": question})"
   ]
  },
  {
   "cell_type": "code",
   "execution_count": 28,
   "id": "09d36c01",
   "metadata": {},
   "outputs": [
    {
     "data": {
      "text/plain": [
       "{'chat_history': [HumanMessage(content='卢浮宫这个名字怎么来的？'),\n",
       "  AIMessage(content='卢浮宫这个名字来源于法语中的\"Musée du Louvre\"，而\"Musée du Louvre\"一词中的\"Louvre\"则可能来源于法语中的\"l\\'ouvre\"，意思是“工程”或“建筑物”。因此，卢浮宫这个名称可能与建筑本身的历史和构造有关，代表着这个建筑物的重要性和独特性。'),\n",
       "  HumanMessage(content='对应的拉丁语是什么呢？'),\n",
       "  AIMessage(content='这个名称对应的拉丁语是\"Palatium Lutetiae\"。'),\n",
       "  HumanMessage(content='卢浮宫这个名字怎么来的？'),\n",
       "  AIMessage(content='这个名称的拉丁语对应是\"Ludovicus Museum\"。')],\n",
       " 'question': '卢浮宫这个名字怎么来的？',\n",
       " 'answer': '这个名称的拉丁语对应是\"Ludovicus Museum\"。',\n",
       " 'source_documents': [Document(page_content='罗浮宫（法语：Musée du Louvre,英语 /ˈluːv(rə)/ ），正式名称为罗浮博物馆，位于法国巴黎市中心的塞纳河边，原是建于12世纪末至13世纪初的王宫，现在是一所综合博物馆，亦是世界上最大的艺术博物馆之一，以及参观人数最多的博物馆，是巴黎中心最知名的地标。\\n\\n罗浮宫的建筑物始建于1190年左右，并在近代曾多次进行扩建，今天所见的模样则一个巨大的翼楼和亭阁建筑群，主要组成部分的总面积则超过60,600平方公尺（652,000平方英尺），馆内永久收藏则包括雕塑、绘画、美术工艺及古代东方、古代埃及和古希腊罗马等7个分类，主要收藏1860年以前的艺术作品与考古文物，罗浮宫博物馆在1793年8月10日开幕起正式对公众开放，平均每天有15,000名游客到此参观，其中65%是外国游客。\\n\\n位置\\n\\n罗浮宫与杜乐丽花园的卫星照片\\n罗浮宫博物馆位于巴黎市中心的卢浮宫内，位于塞纳河右岸，毗邻杜乐丽花园。最近的两个地铁站是皇家宫-罗浮宫站和卢浮-里沃利站，前者有直达地下购物中心 Carrousel du Louvre 的地下通道。', metadata={'source': 'D:\\\\Project_Practice\\\\Linlili_AI\\\\project4\\\\rag\\\\demo.txt'}),\n",
       "  Document(page_content='在1980年代末和1990年代大改建之前，罗浮宫共有好几个街道入口，目前大部分入口已经永久关闭。自1993年以来，博物馆的正门位置位于拿破仑广场金字塔底下的地下空间，游客可以从金字塔本身、旋转阶梯处连接到博物馆的通道。\\n\\n博物馆的参观时间随著时代的推移而变化。自18世纪开放以来，只有艺术家和来自外国的观光游客享有特权参观，这项特权后在1850年代才消失。当博物馆从1793年首次开放时，新历法法国共和历规定了“十天周”（法语：décades），其中前六天为艺术家和外国人访问，后三天为将军访问，民众仅能在最后一天参观，后在在1800年代初期在恢复七天周后，民众在每周只有4小时的时间能在罗浮宫参观，周六和周日则是缩减至下午2点至下午4点期间参观。\\n\\n从1824年开始的一项新规定允许公众在星期日和节假日时参观，然而其他日子只对艺术家和外国游客开放，这种情况到1855年才发生了变化，博物馆更改成除了周一外全天向公众免费开放，直到1922年才开始收费。\\n\\n当前自1946年开始，罗浮宫除了在周二公休和特殊假日外，通常向游客全面开放参观，内部允许使用照相机和录像机，但禁止使用闪光灯。', metadata={'source': 'D:\\\\Project_Practice\\\\Linlili_AI\\\\project4\\\\rag\\\\demo.txt'})]}"
      ]
     },
     "execution_count": 28,
     "metadata": {},
     "output_type": "execute_result"
    }
   ],
   "source": [
    "qa = ConversationalRetrievalChain.from_llm(\n",
    "    llm=model2,\n",
    "    retriever=retriever,\n",
    "    memory=memory,\n",
    "    return_source_documents=True\n",
    ")\n",
    "\n",
    "question = \"卢浮宫这个名字怎么来的？\"\n",
    "qa.invoke({\"chat_history\": memory, \"question\": question})"
   ]
  },
  {
   "cell_type": "code",
   "execution_count": 51,
   "id": "f4d16743",
   "metadata": {},
   "outputs": [],
   "source": [
    "from langchain_community.document_loaders import TextLoader\n",
    "from langchain_text_splitters import RecursiveCharacterTextSplitter\n",
    "\n",
    "from langchain_openai.embeddings import OpenAIEmbeddings\n",
    "from langchain_community.vectorstores import FAISS\n",
    "\n",
    "from langchain_openai import ChatOpenAI\n",
    "\n",
    "from langchain.chains import ConversationalRetrievalChain\n",
    "from langchain.memory import ConversationBufferMemory"
   ]
  },
  {
   "cell_type": "code",
   "execution_count": 52,
   "id": "ff1085e9",
   "metadata": {},
   "outputs": [],
   "source": [
    "docs3 = TextLoader(r\"D:\\Project_Practice\\Linlili_AI\\project4\\rag\\demo.txt\",\n",
    "                   encoding=\"utf-8\").load()\n",
    "\n",
    "text_splitter3 = RecursiveCharacterTextSplitter(\n",
    "    chunk_size=500,\n",
    "    chunk_overlap=40,\n",
    "    separators=[\"\\n\", \"。\", \"！\", \"？\", \"，\", \"、\", \"\"]\n",
    ")\n",
    "texts3 = text_splitter3.split_documents(docs3)\n",
    "\n",
    "embeddings_model3 = OpenAIEmbeddings(api_key=key,base_url=url)\n",
    "db3 = FAISS.from_documents(texts3,embeddings_model3)\n",
    "retriever3 = db3.as_retriever()\n",
    "\n",
    "model3 = ChatOpenAI(model=\"gpt-3.5-turbo\",api_key=key,base_url=url)\n",
    "\n",
    "memory3 = ConversationBufferMemory(return_messages=True,\n",
    "                                   memory_key = \"chat_history\",\n",
    "                                   output_key=\"answer\")"
   ]
  },
  {
   "cell_type": "code",
   "execution_count": 53,
   "id": "5c96139e",
   "metadata": {},
   "outputs": [
    {
     "data": {
      "text/plain": [
       "{'chat_history': [HumanMessage(content='卢浮宫这个名字怎么来的？'),\n",
       "  AIMessage(content='卢浮宫这个名字来源于法语，最初是指位于巴黎市中心的一座城堡。')],\n",
       " 'question': '卢浮宫这个名字怎么来的？',\n",
       " 'answer': '卢浮宫这个名字来源于法语，最初是指位于巴黎市中心的一座城堡。'}"
      ]
     },
     "execution_count": 53,
     "metadata": {},
     "output_type": "execute_result"
    }
   ],
   "source": [
    "qa3 = ConversationalRetrievalChain.from_llm(\n",
    "    llm=model3,\n",
    "    retriever=retriever3,\n",
    "    memory = memory3,\n",
    "    chain_type =\"map_reduce\"\n",
    ")\n",
    "\n",
    "qa3.invoke({\"chat_history\": memory3, \"question\": \"卢浮宫这个名字怎么来的？\"})\n"
   ]
  },
  {
   "cell_type": "code",
   "execution_count": 56,
   "id": "ae4ea56f",
   "metadata": {},
   "outputs": [
    {
     "data": {
      "text/plain": [
       "{'chat_history': [HumanMessage(content='卢浮宫这个名字怎么来的？'),\n",
       "  AIMessage(content='卢浮宫这个名字来源于法语，最初是指位于巴黎市中心的一座城堡。'),\n",
       "  HumanMessage(content='卢浮宫这个名字怎么来的？'),\n",
       "  AIMessage(content='根据提供的新背景信息，这个名字来源于法语。'),\n",
       "  HumanMessage(content='卢浮宫这个名字怎么来的？'),\n",
       "  AIMessage(content='不知道'),\n",
       "  HumanMessage(content='卢浮宫这个名字怎么来的？'),\n",
       "  AIMessage(content='卢浮宫这个名字来源于法语，正式的名称是\"罗浮宫\"（Musée du Louvre）。在1980年代末和1990年代大改建之前，博物馆的参观时间曾经随着时代的变迁而有所改变，但自1946年开始，罗浮宫除了在周二公休和特殊假日外，通常向游客全面开放参观。')],\n",
       " 'question': '卢浮宫这个名字怎么来的？',\n",
       " 'answer': '卢浮宫这个名字来源于法语，正式的名称是\"罗浮宫\"（Musée du Louvre）。在1980年代末和1990年代大改建之前，博物馆的参观时间曾经随着时代的变迁而有所改变，但自1946年开始，罗浮宫除了在周二公休和特殊假日外，通常向游客全面开放参观。'}"
      ]
     },
     "execution_count": 56,
     "metadata": {},
     "output_type": "execute_result"
    }
   ],
   "source": [
    "qa3 = ConversationalRetrievalChain.from_llm(\n",
    "    llm=model3,\n",
    "    retriever=retriever3,\n",
    "    memory=memory3,\n",
    "    chain_type=\"refine\"\n",
    ")\n",
    "qa3.invoke({\"chat_history\": memory3, \"question\": \"卢浮宫这个名字怎么来的？\"})"
   ]
  },
  {
   "cell_type": "code",
   "execution_count": 57,
   "id": "e7f66a54",
   "metadata": {},
   "outputs": [
    {
     "name": "stderr",
     "output_type": "stream",
     "text": [
      "d:\\Project_Practice\\Linlili_AI\\project4\\.venv_Linlili_project4\\lib\\site-packages\\langchain\\chains\\llm.py:344: UserWarning: The apply_and_parse method is deprecated, instead pass an output parser directly to LLMChain.\n",
      "  warnings.warn(\n"
     ]
    },
    {
     "data": {
      "text/plain": [
       "{'chat_history': [HumanMessage(content='卢浮宫这个名字怎么来的？'),\n",
       "  AIMessage(content='卢浮宫这个名字来源于法语，最初是指位于巴黎市中心的一座城堡。'),\n",
       "  HumanMessage(content='卢浮宫这个名字怎么来的？'),\n",
       "  AIMessage(content='根据提供的新背景信息，这个名字来源于法语。'),\n",
       "  HumanMessage(content='卢浮宫这个名字怎么来的？'),\n",
       "  AIMessage(content='不知道'),\n",
       "  HumanMessage(content='卢浮宫这个名字怎么来的？'),\n",
       "  AIMessage(content='卢浮宫这个名字来源于法语，正式的名称是\"罗浮宫\"（Musée du Louvre）。在1980年代末和1990年代大改建之前，博物馆的参观时间曾经随着时代的变迁而有所改变，但自1946年开始，罗浮宫除了在周二公休和特殊假日外，通常向游客全面开放参观。'),\n",
       "  HumanMessage(content='卢浮宫这个名字怎么来的？'),\n",
       "  AIMessage(content='是的，罗浮宫的名字来源于法语。')],\n",
       " 'question': '卢浮宫这个名字怎么来的？',\n",
       " 'answer': '是的，罗浮宫的名字来源于法语。'}"
      ]
     },
     "execution_count": 57,
     "metadata": {},
     "output_type": "execute_result"
    }
   ],
   "source": [
    "qa3 = ConversationalRetrievalChain.from_llm(\n",
    "    llm=model3,\n",
    "    retriever=retriever3,\n",
    "    memory=memory3,\n",
    "    chain_type=\"map_rerank\"\n",
    ")\n",
    "qa3.invoke({\"chat_history\": memory3, \"question\": \"卢浮宫这个名字怎么来的？\"})"
   ]
  },
  {
   "cell_type": "code",
   "execution_count": null,
   "id": "f3cfeaa0",
   "metadata": {},
   "outputs": [],
   "source": []
  }
 ],
 "metadata": {
  "kernelspec": {
   "display_name": ".venv_Linlili_project4",
   "language": "python",
   "name": "python3"
  },
  "language_info": {
   "codemirror_mode": {
    "name": "ipython",
    "version": 3
   },
   "file_extension": ".py",
   "mimetype": "text/x-python",
   "name": "python",
   "nbconvert_exporter": "python",
   "pygments_lexer": "ipython3",
   "version": "3.10.2"
  }
 },
 "nbformat": 4,
 "nbformat_minor": 5
}
